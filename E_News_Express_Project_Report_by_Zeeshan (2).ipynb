{
 "cells": [
  {
   "cell_type": "markdown",
   "id": "6yDxo9u0d9Na",
   "metadata": {
    "id": "6yDxo9u0d9Na"
   },
   "source": [
    "# Project Business Statistics: E-news Express\n",
    "\n",
    "**Marks: 60**"
   ]
  },
  {
   "cell_type": "markdown",
   "id": "SrLd-ICEmPSD",
   "metadata": {
    "id": "SrLd-ICEmPSD"
   },
   "source": [
    "## Define Problem Statement and Objectives"
   ]
  },
  {
   "cell_type": "markdown",
   "id": "9Vt1PLLqmXNn",
   "metadata": {
    "id": "9Vt1PLLqmXNn"
   },
   "source": [
    "### Context :\n",
    "E-news Express, an online news portal, aims to expand its business by acquiring new subscribers. With every visitor to the website taking certain actions based on their interest, the company plans to analyze these actions to understand user interests and determine how to drive better engagement. The executives at E-news Express are of the opinion that there has been a decline in new monthly subscribers compared to the past year because the current webpage is not designed well enough in terms of the outline & recommended content to keep customers engaged long enough to make a decision to subscribe.\n",
    "\n",
    "The design team of the company has researched and created a new landing page that has a new outline & more relevant content shown compared to the old page. In order to test the effectiveness of the new landing page in gathering new subscribers, the Data Science team conducted an experiment by randomly selecting 100 users and dividing them equally into two groups. The existing landing page was served to the first group (control group) and the new landing page to the second group (treatment group). Data regarding the interaction of users in both groups with the two versions of the landing page was collected.\n",
    "\n",
    "### Objectives :\n",
    "\n",
    "Being a data scientist in E-news Express, you have been asked to explore the data and perform a statistical analysis (at a significance level of 5%) to determine the effectiveness of the new landing page in gathering new subscribers for the news portal by answering the following questions:\n",
    "\n",
    "1.   Do the users spend more time on the new landing page than on the existing landing page?\n",
    "2.   Is the conversion rate (the proportion of users who visit the landing page and get converted) for the new page greater than the conversion rate for the old page?\n",
    "3.   Does the converted status depend on the preferred language?\n",
    "4.   Is the time spent on the new page the same for the different language users?\n",
    "\n",
    "\n",
    "### Data Dictionary :\n",
    "1. user_id - Unique user ID of the person visiting the website\n",
    "2. group - Whether the user belongs to the first group (control) or the second group (treatment)\n",
    "3. landing_page - Whether the landing page is new or old\n",
    "4. time_spent_on_the_page - Time (in minutes) spent by the user on the landing page\n",
    "5. converted - Whether the user gets converted to a subscriber of the news portal or not\n",
    "6. language_preferred - Language chosen by the user to view the landing page\n",
    "\n",
    "\n"
   ]
  },
  {
   "cell_type": "markdown",
   "id": "a6a3d218",
   "metadata": {
    "id": "a6a3d218"
   },
   "source": [
    "## Import all the necessary libraries"
   ]
  },
  {
   "cell_type": "code",
   "execution_count": 1,
   "id": "658c5dec",
   "metadata": {
    "id": "658c5dec"
   },
   "outputs": [],
   "source": [
    "import numpy as np\n",
    "import pandas as pd\n",
    "import matplotlib.pyplot as plt\n",
    "import seaborn as sns\n",
    "%matplotlib inline\n",
    "import scipy.stats as stats\n",
    "pd.set_option(\"display.float_format\",lambda x:\"%.2f\"%x)"
   ]
  },
  {
   "cell_type": "code",
   "execution_count": 2,
   "id": "lr1niaF4QhRr",
   "metadata": {
    "colab": {
     "base_uri": "https://localhost:8080/"
    },
    "id": "lr1niaF4QhRr",
    "outputId": "25f8ef67-0935-44e0-ab79-7247e9765b4f"
   },
   "outputs": [],
   "source": [
    "#from google.colab import drive\n",
    "#drive.mount('/content/drive')"
   ]
  },
  {
   "cell_type": "markdown",
   "id": "6970dd99",
   "metadata": {
    "id": "6970dd99"
   },
   "source": [
    "## Reading the Data into a DataFrame"
   ]
  },
  {
   "cell_type": "code",
   "execution_count": 3,
   "id": "d3b95640",
   "metadata": {
    "id": "d3b95640"
   },
   "outputs": [],
   "source": [
    "df=pd.read_csv('C:\\\\Users\\\\DELL\\\\Downloads\\\\abtest.csv')"
   ]
  },
  {
   "cell_type": "markdown",
   "id": "9d75cfa2",
   "metadata": {
    "id": "9d75cfa2"
   },
   "source": [
    "## Explore the dataset and extract insights using Exploratory Data Analysis"
   ]
  },
  {
   "cell_type": "markdown",
   "id": "27201534",
   "metadata": {
    "id": "27201534"
   },
   "source": [
    "- Data Overview\n",
    "  - Viewing the first and last few rows of the dataset\n",
    "  - Checking the shape of the dataset\n",
    "  - Getting the statistical summary for the variables\n",
    "- Check for missing values\n",
    "- Check for duplicates"
   ]
  },
  {
   "cell_type": "code",
   "execution_count": 4,
   "id": "e1ad11d4",
   "metadata": {
    "colab": {
     "base_uri": "https://localhost:8080/",
     "height": 206
    },
    "id": "e1ad11d4",
    "outputId": "763048fb-417f-4d4b-fce9-a308684d70a9"
   },
   "outputs": [
    {
     "data": {
      "text/html": [
       "<div>\n",
       "<style scoped>\n",
       "    .dataframe tbody tr th:only-of-type {\n",
       "        vertical-align: middle;\n",
       "    }\n",
       "\n",
       "    .dataframe tbody tr th {\n",
       "        vertical-align: top;\n",
       "    }\n",
       "\n",
       "    .dataframe thead th {\n",
       "        text-align: right;\n",
       "    }\n",
       "</style>\n",
       "<table border=\"1\" class=\"dataframe\">\n",
       "  <thead>\n",
       "    <tr style=\"text-align: right;\">\n",
       "      <th></th>\n",
       "      <th>user_id</th>\n",
       "      <th>group</th>\n",
       "      <th>landing_page</th>\n",
       "      <th>time_spent_on_the_page</th>\n",
       "      <th>converted</th>\n",
       "      <th>language_preferred</th>\n",
       "    </tr>\n",
       "  </thead>\n",
       "  <tbody>\n",
       "    <tr>\n",
       "      <th>0</th>\n",
       "      <td>546592</td>\n",
       "      <td>control</td>\n",
       "      <td>old</td>\n",
       "      <td>3.48</td>\n",
       "      <td>no</td>\n",
       "      <td>Spanish</td>\n",
       "    </tr>\n",
       "    <tr>\n",
       "      <th>1</th>\n",
       "      <td>546468</td>\n",
       "      <td>treatment</td>\n",
       "      <td>new</td>\n",
       "      <td>7.13</td>\n",
       "      <td>yes</td>\n",
       "      <td>English</td>\n",
       "    </tr>\n",
       "    <tr>\n",
       "      <th>2</th>\n",
       "      <td>546462</td>\n",
       "      <td>treatment</td>\n",
       "      <td>new</td>\n",
       "      <td>4.40</td>\n",
       "      <td>no</td>\n",
       "      <td>Spanish</td>\n",
       "    </tr>\n",
       "    <tr>\n",
       "      <th>3</th>\n",
       "      <td>546567</td>\n",
       "      <td>control</td>\n",
       "      <td>old</td>\n",
       "      <td>3.02</td>\n",
       "      <td>no</td>\n",
       "      <td>French</td>\n",
       "    </tr>\n",
       "    <tr>\n",
       "      <th>4</th>\n",
       "      <td>546459</td>\n",
       "      <td>treatment</td>\n",
       "      <td>new</td>\n",
       "      <td>4.75</td>\n",
       "      <td>yes</td>\n",
       "      <td>Spanish</td>\n",
       "    </tr>\n",
       "  </tbody>\n",
       "</table>\n",
       "</div>"
      ],
      "text/plain": [
       "   user_id      group landing_page  time_spent_on_the_page converted  \\\n",
       "0   546592    control          old                    3.48        no   \n",
       "1   546468  treatment          new                    7.13       yes   \n",
       "2   546462  treatment          new                    4.40        no   \n",
       "3   546567    control          old                    3.02        no   \n",
       "4   546459  treatment          new                    4.75       yes   \n",
       "\n",
       "  language_preferred  \n",
       "0            Spanish  \n",
       "1            English  \n",
       "2            Spanish  \n",
       "3             French  \n",
       "4            Spanish  "
      ]
     },
     "execution_count": 4,
     "metadata": {},
     "output_type": "execute_result"
    }
   ],
   "source": [
    "df.head()"
   ]
  },
  {
   "cell_type": "code",
   "execution_count": 5,
   "id": "FrDbfVIUHqtd",
   "metadata": {
    "colab": {
     "base_uri": "https://localhost:8080/",
     "height": 206
    },
    "id": "FrDbfVIUHqtd",
    "outputId": "d0e41ff0-ad64-4355-f47e-2b7ab37fe27e"
   },
   "outputs": [
    {
     "data": {
      "text/html": [
       "<div>\n",
       "<style scoped>\n",
       "    .dataframe tbody tr th:only-of-type {\n",
       "        vertical-align: middle;\n",
       "    }\n",
       "\n",
       "    .dataframe tbody tr th {\n",
       "        vertical-align: top;\n",
       "    }\n",
       "\n",
       "    .dataframe thead th {\n",
       "        text-align: right;\n",
       "    }\n",
       "</style>\n",
       "<table border=\"1\" class=\"dataframe\">\n",
       "  <thead>\n",
       "    <tr style=\"text-align: right;\">\n",
       "      <th></th>\n",
       "      <th>user_id</th>\n",
       "      <th>group</th>\n",
       "      <th>landing_page</th>\n",
       "      <th>time_spent_on_the_page</th>\n",
       "      <th>converted</th>\n",
       "      <th>language_preferred</th>\n",
       "    </tr>\n",
       "  </thead>\n",
       "  <tbody>\n",
       "    <tr>\n",
       "      <th>95</th>\n",
       "      <td>546446</td>\n",
       "      <td>treatment</td>\n",
       "      <td>new</td>\n",
       "      <td>5.15</td>\n",
       "      <td>no</td>\n",
       "      <td>Spanish</td>\n",
       "    </tr>\n",
       "    <tr>\n",
       "      <th>96</th>\n",
       "      <td>546544</td>\n",
       "      <td>control</td>\n",
       "      <td>old</td>\n",
       "      <td>6.52</td>\n",
       "      <td>yes</td>\n",
       "      <td>English</td>\n",
       "    </tr>\n",
       "    <tr>\n",
       "      <th>97</th>\n",
       "      <td>546472</td>\n",
       "      <td>treatment</td>\n",
       "      <td>new</td>\n",
       "      <td>7.07</td>\n",
       "      <td>yes</td>\n",
       "      <td>Spanish</td>\n",
       "    </tr>\n",
       "    <tr>\n",
       "      <th>98</th>\n",
       "      <td>546481</td>\n",
       "      <td>treatment</td>\n",
       "      <td>new</td>\n",
       "      <td>6.20</td>\n",
       "      <td>yes</td>\n",
       "      <td>Spanish</td>\n",
       "    </tr>\n",
       "    <tr>\n",
       "      <th>99</th>\n",
       "      <td>546483</td>\n",
       "      <td>treatment</td>\n",
       "      <td>new</td>\n",
       "      <td>5.86</td>\n",
       "      <td>yes</td>\n",
       "      <td>English</td>\n",
       "    </tr>\n",
       "  </tbody>\n",
       "</table>\n",
       "</div>"
      ],
      "text/plain": [
       "    user_id      group landing_page  time_spent_on_the_page converted  \\\n",
       "95   546446  treatment          new                    5.15        no   \n",
       "96   546544    control          old                    6.52       yes   \n",
       "97   546472  treatment          new                    7.07       yes   \n",
       "98   546481  treatment          new                    6.20       yes   \n",
       "99   546483  treatment          new                    5.86       yes   \n",
       "\n",
       "   language_preferred  \n",
       "95            Spanish  \n",
       "96            English  \n",
       "97            Spanish  \n",
       "98            Spanish  \n",
       "99            English  "
      ]
     },
     "execution_count": 5,
     "metadata": {},
     "output_type": "execute_result"
    }
   ],
   "source": [
    "df.tail()"
   ]
  },
  {
   "cell_type": "code",
   "execution_count": 6,
   "id": "kl458xgWRcVJ",
   "metadata": {
    "colab": {
     "base_uri": "https://localhost:8080/"
    },
    "id": "kl458xgWRcVJ",
    "outputId": "3ffef5a6-6855-4fb6-c4b3-bb70a44e9b21"
   },
   "outputs": [
    {
     "data": {
      "text/plain": [
       "(100, 6)"
      ]
     },
     "execution_count": 6,
     "metadata": {},
     "output_type": "execute_result"
    }
   ],
   "source": [
    "df.shape"
   ]
  },
  {
   "cell_type": "markdown",
   "id": "93b0d325",
   "metadata": {
    "id": "93b0d325"
   },
   "source": [
    "### Observations:\n",
    "There are **100 Rows** and **6 Columns** in the given data.\n",
    "\n"
   ]
  },
  {
   "cell_type": "code",
   "execution_count": 7,
   "id": "rLssmKOcRfiJ",
   "metadata": {
    "colab": {
     "base_uri": "https://localhost:8080/",
     "height": 112
    },
    "id": "rLssmKOcRfiJ",
    "outputId": "74ee8753-f813-4f64-b5a7-67e015bc1b99"
   },
   "outputs": [
    {
     "data": {
      "text/html": [
       "<div>\n",
       "<style scoped>\n",
       "    .dataframe tbody tr th:only-of-type {\n",
       "        vertical-align: middle;\n",
       "    }\n",
       "\n",
       "    .dataframe tbody tr th {\n",
       "        vertical-align: top;\n",
       "    }\n",
       "\n",
       "    .dataframe thead th {\n",
       "        text-align: right;\n",
       "    }\n",
       "</style>\n",
       "<table border=\"1\" class=\"dataframe\">\n",
       "  <thead>\n",
       "    <tr style=\"text-align: right;\">\n",
       "      <th></th>\n",
       "      <th>count</th>\n",
       "      <th>unique</th>\n",
       "      <th>top</th>\n",
       "      <th>freq</th>\n",
       "      <th>mean</th>\n",
       "      <th>std</th>\n",
       "      <th>min</th>\n",
       "      <th>25%</th>\n",
       "      <th>50%</th>\n",
       "      <th>75%</th>\n",
       "      <th>max</th>\n",
       "    </tr>\n",
       "  </thead>\n",
       "  <tbody>\n",
       "    <tr>\n",
       "      <th>user_id</th>\n",
       "      <td>100.00</td>\n",
       "      <td>NaN</td>\n",
       "      <td>NaN</td>\n",
       "      <td>NaN</td>\n",
       "      <td>546517.00</td>\n",
       "      <td>52.30</td>\n",
       "      <td>546443.00</td>\n",
       "      <td>546467.75</td>\n",
       "      <td>546492.50</td>\n",
       "      <td>546567.25</td>\n",
       "      <td>546592.00</td>\n",
       "    </tr>\n",
       "    <tr>\n",
       "      <th>group</th>\n",
       "      <td>100</td>\n",
       "      <td>2</td>\n",
       "      <td>control</td>\n",
       "      <td>50</td>\n",
       "      <td>NaN</td>\n",
       "      <td>NaN</td>\n",
       "      <td>NaN</td>\n",
       "      <td>NaN</td>\n",
       "      <td>NaN</td>\n",
       "      <td>NaN</td>\n",
       "      <td>NaN</td>\n",
       "    </tr>\n",
       "    <tr>\n",
       "      <th>landing_page</th>\n",
       "      <td>100</td>\n",
       "      <td>2</td>\n",
       "      <td>old</td>\n",
       "      <td>50</td>\n",
       "      <td>NaN</td>\n",
       "      <td>NaN</td>\n",
       "      <td>NaN</td>\n",
       "      <td>NaN</td>\n",
       "      <td>NaN</td>\n",
       "      <td>NaN</td>\n",
       "      <td>NaN</td>\n",
       "    </tr>\n",
       "    <tr>\n",
       "      <th>time_spent_on_the_page</th>\n",
       "      <td>100.00</td>\n",
       "      <td>NaN</td>\n",
       "      <td>NaN</td>\n",
       "      <td>NaN</td>\n",
       "      <td>5.38</td>\n",
       "      <td>2.38</td>\n",
       "      <td>0.19</td>\n",
       "      <td>3.88</td>\n",
       "      <td>5.42</td>\n",
       "      <td>7.02</td>\n",
       "      <td>10.71</td>\n",
       "    </tr>\n",
       "    <tr>\n",
       "      <th>converted</th>\n",
       "      <td>100</td>\n",
       "      <td>2</td>\n",
       "      <td>yes</td>\n",
       "      <td>54</td>\n",
       "      <td>NaN</td>\n",
       "      <td>NaN</td>\n",
       "      <td>NaN</td>\n",
       "      <td>NaN</td>\n",
       "      <td>NaN</td>\n",
       "      <td>NaN</td>\n",
       "      <td>NaN</td>\n",
       "    </tr>\n",
       "    <tr>\n",
       "      <th>language_preferred</th>\n",
       "      <td>100</td>\n",
       "      <td>3</td>\n",
       "      <td>Spanish</td>\n",
       "      <td>34</td>\n",
       "      <td>NaN</td>\n",
       "      <td>NaN</td>\n",
       "      <td>NaN</td>\n",
       "      <td>NaN</td>\n",
       "      <td>NaN</td>\n",
       "      <td>NaN</td>\n",
       "      <td>NaN</td>\n",
       "    </tr>\n",
       "  </tbody>\n",
       "</table>\n",
       "</div>"
      ],
      "text/plain": [
       "                        count unique      top freq      mean   std       min  \\\n",
       "user_id                100.00    NaN      NaN  NaN 546517.00 52.30 546443.00   \n",
       "group                     100      2  control   50       NaN   NaN       NaN   \n",
       "landing_page              100      2      old   50       NaN   NaN       NaN   \n",
       "time_spent_on_the_page 100.00    NaN      NaN  NaN      5.38  2.38      0.19   \n",
       "converted                 100      2      yes   54       NaN   NaN       NaN   \n",
       "language_preferred        100      3  Spanish   34       NaN   NaN       NaN   \n",
       "\n",
       "                             25%       50%       75%       max  \n",
       "user_id                546467.75 546492.50 546567.25 546592.00  \n",
       "group                        NaN       NaN       NaN       NaN  \n",
       "landing_page                 NaN       NaN       NaN       NaN  \n",
       "time_spent_on_the_page      3.88      5.42      7.02     10.71  \n",
       "converted                    NaN       NaN       NaN       NaN  \n",
       "language_preferred           NaN       NaN       NaN       NaN  "
      ]
     },
     "execution_count": 7,
     "metadata": {},
     "output_type": "execute_result"
    }
   ],
   "source": [
    "df.describe(include='all').T"
   ]
  },
  {
   "cell_type": "markdown",
   "id": "lD-vh0-3InKD",
   "metadata": {
    "id": "lD-vh0-3InKD"
   },
   "source": [
    "### Observations:\n",
    "*   The **Minimum, Average, and Maximum** time spent by the users on the page is **0.19 mins** , **5.38 mins** and **10.71 mins** respectively.\n",
    "*   The **Average** and **Median** time spent on the page is almost similar. (Normal Distribution)\n",
    "\n",
    "\n"
   ]
  },
  {
   "cell_type": "code",
   "execution_count": 8,
   "id": "s7obOYauS42R",
   "metadata": {
    "colab": {
     "base_uri": "https://localhost:8080/"
    },
    "id": "s7obOYauS42R",
    "outputId": "02442185-131b-49ab-c627-d66007e9bab3"
   },
   "outputs": [
    {
     "name": "stdout",
     "output_type": "stream",
     "text": [
      "<class 'pandas.core.frame.DataFrame'>\n",
      "RangeIndex: 100 entries, 0 to 99\n",
      "Data columns (total 6 columns):\n",
      " #   Column                  Non-Null Count  Dtype  \n",
      "---  ------                  --------------  -----  \n",
      " 0   user_id                 100 non-null    int64  \n",
      " 1   group                   100 non-null    object \n",
      " 2   landing_page            100 non-null    object \n",
      " 3   time_spent_on_the_page  100 non-null    float64\n",
      " 4   converted               100 non-null    object \n",
      " 5   language_preferred      100 non-null    object \n",
      "dtypes: float64(1), int64(1), object(4)\n",
      "memory usage: 4.8+ KB\n"
     ]
    }
   ],
   "source": [
    "df.info()"
   ]
  },
  {
   "cell_type": "markdown",
   "id": "DsQU2nEuK4co",
   "metadata": {
    "id": "DsQU2nEuK4co"
   },
   "source": [
    "### Observations:\n",
    "*   There are **2 numerical** (1 int & 1 float) and 4 object datatypes."
   ]
  },
  {
   "cell_type": "code",
   "execution_count": 9,
   "id": "92lBJRr-TDWh",
   "metadata": {
    "colab": {
     "base_uri": "https://localhost:8080/"
    },
    "id": "92lBJRr-TDWh",
    "outputId": "ed3e72ad-b096-439e-a7cb-38f408e2684b"
   },
   "outputs": [
    {
     "data": {
      "text/plain": [
       "user_id                   0\n",
       "group                     0\n",
       "landing_page              0\n",
       "time_spent_on_the_page    0\n",
       "converted                 0\n",
       "language_preferred        0\n",
       "dtype: int64"
      ]
     },
     "execution_count": 9,
     "metadata": {},
     "output_type": "execute_result"
    }
   ],
   "source": [
    "df.isnull().sum()"
   ]
  },
  {
   "cell_type": "markdown",
   "id": "2rGMacHaLiN1",
   "metadata": {
    "id": "2rGMacHaLiN1"
   },
   "source": [
    "### Observations:\n",
    "*   There are **no missing** values in the data."
   ]
  },
  {
   "cell_type": "code",
   "execution_count": 10,
   "id": "Bm8y3k34T3kx",
   "metadata": {
    "colab": {
     "base_uri": "https://localhost:8080/"
    },
    "id": "Bm8y3k34T3kx",
    "outputId": "a68cc5be-0798-49dc-8896-95d58db2549b"
   },
   "outputs": [
    {
     "data": {
      "text/plain": [
       "0"
      ]
     },
     "execution_count": 10,
     "metadata": {},
     "output_type": "execute_result"
    }
   ],
   "source": [
    "df.duplicated().sum()"
   ]
  },
  {
   "cell_type": "markdown",
   "id": "AXvllnPxL2gm",
   "metadata": {
    "id": "AXvllnPxL2gm"
   },
   "source": [
    "### Observations:\n",
    "*   There are **no duplicate** values in the data."
   ]
  },
  {
   "cell_type": "markdown",
   "id": "68f3b2c9",
   "metadata": {
    "id": "68f3b2c9"
   },
   "source": [
    "### Univariate Analysis"
   ]
  },
  {
   "cell_type": "markdown",
   "id": "bORKSafHVyMq",
   "metadata": {
    "id": "bORKSafHVyMq"
   },
   "source": [
    "### Group Type (Landing Page):"
   ]
  },
  {
   "cell_type": "code",
   "execution_count": 11,
   "id": "hynhMUzSZrj_",
   "metadata": {
    "colab": {
     "base_uri": "https://localhost:8080/"
    },
    "id": "hynhMUzSZrj_",
    "outputId": "9af4cd97-4b3d-4304-e0cd-c66e581a6af5"
   },
   "outputs": [
    {
     "data": {
      "text/plain": [
       "control      50\n",
       "treatment    50\n",
       "Name: group, dtype: int64"
      ]
     },
     "execution_count": 11,
     "metadata": {},
     "output_type": "execute_result"
    }
   ],
   "source": [
    "df['group'].value_counts()"
   ]
  },
  {
   "cell_type": "code",
   "execution_count": 12,
   "id": "60cwlQQ0Z0In",
   "metadata": {
    "colab": {
     "base_uri": "https://localhost:8080/",
     "height": 333
    },
    "id": "60cwlQQ0Z0In",
    "outputId": "c7d42472-a2ba-4310-d877-64671af757c8"
   },
   "outputs": [
    {
     "data": {
      "image/png": "[encoded data removed]",
      "text/plain": [
       "<Figure size 500x300 with 1 Axes>"
      ]
     },
     "metadata": {},
     "output_type": "display_data"
    }
   ],
   "source": [
    "plt.figure(figsize =(5,3))\n",
    "sns.countplot(data=df,x='group');\n",
    "plt.title(\"GROUPS\");\n",
    "plt.xlabel('Group Type');\n",
    "plt.ylabel('Number of Users');"
   ]
  },
  {
   "cell_type": "markdown",
   "id": "_aDUbU-5MMtD",
   "metadata": {
    "id": "_aDUbU-5MMtD"
   },
   "source": [
    "### Observations:\n",
    "*   As stated in the Problem statement the 2 groups are equally distributed each with 50 observation ."
   ]
  },
  {
   "cell_type": "markdown",
   "id": "3g1MyuLhXD1g",
   "metadata": {
    "id": "3g1MyuLhXD1g"
   },
   "source": [
    "### Time Spent On The Page :"
   ]
  },
  {
   "cell_type": "code",
   "execution_count": 13,
   "id": "-wd-kpSxbJP-",
   "metadata": {
    "colab": {
     "base_uri": "https://localhost:8080/",
     "height": 410
    },
    "id": "-wd-kpSxbJP-",
    "outputId": "cdaffeeb-7776-4320-b58b-5dfde9cdeda3"
   },
   "outputs": [
    {
     "data": {
      "image/png": "[encoded data removed]",
      "text/plain": [
       "<Figure size 500x400 with 1 Axes>"
      ]
     },
     "metadata": {},
     "output_type": "display_data"
    }
   ],
   "source": [
    "plt.figure(figsize =(5,4))\n",
    "sns.histplot(df,x='time_spent_on_the_page',kde = True);\n",
    "plt.title(\"TIME SPENT ON THE PAGE\");\n",
    "plt.xlabel('Time (in minutes)');\n",
    "plt.ylabel('Count');"
   ]
  },
  {
   "cell_type": "code",
   "execution_count": 14,
   "id": "ugvrIMEEcQl_",
   "metadata": {
    "colab": {
     "base_uri": "https://localhost:8080/",
     "height": 333
    },
    "id": "ugvrIMEEcQl_",
    "outputId": "bb210368-d879-4a97-996a-dd0bb9f59ea4"
   },
   "outputs": [
    {
     "data": {
      "image/png": "[encoded data removed]",
      "text/plain": [
       "<Figure size 500x300 with 1 Axes>"
      ]
     },
     "metadata": {},
     "output_type": "display_data"
    }
   ],
   "source": [
    "plt.figure(figsize =(5,3))\n",
    "sns.boxplot(data=df,x='time_spent_on_the_page');\n",
    "plt.title(\"TIME SPENT ON THE PAGE\");\n",
    "plt.xlabel('Time (in minutes)');"
   ]
  },
  {
   "cell_type": "markdown",
   "id": "-jUjXSMlMuXW",
   "metadata": {
    "id": "-jUjXSMlMuXW"
   },
   "source": [
    "### Observations:\n",
    "*   Time spent by the user on the page follows a Normal distribution.\n",
    "*   There are no outliers present."
   ]
  },
  {
   "cell_type": "markdown",
   "id": "GClUE4jxXNrw",
   "metadata": {
    "id": "GClUE4jxXNrw"
   },
   "source": [
    "### Conversion Rate :"
   ]
  },
  {
   "cell_type": "code",
   "execution_count": 15,
   "id": "9QILiZsDXI2I",
   "metadata": {
    "colab": {
     "base_uri": "https://localhost:8080/"
    },
    "id": "9QILiZsDXI2I",
    "outputId": "25a57f65-7edb-47a7-cb7d-55b6abe4ff50"
   },
   "outputs": [
    {
     "data": {
      "text/plain": [
       "yes    54\n",
       "no     46\n",
       "Name: converted, dtype: int64"
      ]
     },
     "execution_count": 15,
     "metadata": {},
     "output_type": "execute_result"
    }
   ],
   "source": [
    "df['converted'].value_counts()"
   ]
  },
  {
   "cell_type": "code",
   "execution_count": 16,
   "id": "y3C0iV8YYJRP",
   "metadata": {
    "colab": {
     "base_uri": "https://localhost:8080/",
     "height": 333
    },
    "id": "y3C0iV8YYJRP",
    "outputId": "d7d83d22-251a-454d-f479-9dc1ea224820"
   },
   "outputs": [
    {
     "data": {
      "image/png": "[encoded data removed]",
      "text/plain": [
       "<Figure size 500x300 with 1 Axes>"
      ]
     },
     "metadata": {},
     "output_type": "display_data"
    }
   ],
   "source": [
    "plt.figure(figsize =(5,3))\n",
    "sns.countplot(data=df,x='converted');\n",
    "plt.title(\"CONVERSION RATE\");\n",
    "plt.xlabel('Subscribed');\n",
    "plt.ylabel('Number of Users');"
   ]
  },
  {
   "cell_type": "markdown",
   "id": "gUHpW0pJNLcG",
   "metadata": {
    "id": "gUHpW0pJNLcG"
   },
   "source": [
    "### Observations:\n",
    "The users who have subscribed is slightly higher than the users who have not subscribed.\n",
    "*   subscribed - 54\n",
    "*   not _subscribed - 46"
   ]
  },
  {
   "cell_type": "markdown",
   "id": "uskWEV2aXSVJ",
   "metadata": {
    "id": "uskWEV2aXSVJ"
   },
   "source": [
    "### Prefered Language :"
   ]
  },
  {
   "cell_type": "code",
   "execution_count": 17,
   "id": "_6M_LaTAWvDQ",
   "metadata": {
    "colab": {
     "base_uri": "https://localhost:8080/"
    },
    "id": "_6M_LaTAWvDQ",
    "outputId": "18e5a2f6-e9da-4f47-dff6-9109a205b7ce"
   },
   "outputs": [
    {
     "data": {
      "text/plain": [
       "Spanish    34\n",
       "French     34\n",
       "English    32\n",
       "Name: language_preferred, dtype: int64"
      ]
     },
     "execution_count": 17,
     "metadata": {},
     "output_type": "execute_result"
    }
   ],
   "source": [
    "df['language_preferred'].value_counts()"
   ]
  },
  {
   "cell_type": "code",
   "execution_count": 18,
   "id": "1932d0f3",
   "metadata": {
    "colab": {
     "base_uri": "https://localhost:8080/",
     "height": 333
    },
    "id": "1932d0f3",
    "outputId": "b86be2d9-911f-4c04-c029-b830356b5c54"
   },
   "outputs": [
    {
     "data": {
      "image/png": "[encoded data removed]",
      "text/plain": [
       "<Figure size 500x300 with 1 Axes>"
      ]
     },
     "metadata": {},
     "output_type": "display_data"
    }
   ],
   "source": [
    "plt.figure(figsize =(5,3))\n",
    "sns.countplot(data=df,x='language_preferred');\n",
    "plt.title(\"PREFERED LANGUAGE\");\n",
    "plt.xlabel('Language');\n",
    "plt.ylabel('Number of Users');"
   ]
  },
  {
   "cell_type": "code",
   "execution_count": 19,
   "id": "tP3oDuepstPY",
   "metadata": {
    "colab": {
     "base_uri": "https://localhost:8080/",
     "height": 307
    },
    "id": "tP3oDuepstPY",
    "outputId": "febe669c-95a4-4035-fdbd-9de08b4cc4b7"
   },
   "outputs": [
    {
     "data": {
      "image/png": "[encoded data removed]",
      "text/plain": [
       "<Figure size 900x300 with 3 Axes>"
      ]
     },
     "metadata": {},
     "output_type": "display_data"
    }
   ],
   "source": [
    "sns.catplot(df, x = 'converted', col = 'language_preferred', kind = 'count',height=3, aspect=2/2);"
   ]
  },
  {
   "cell_type": "markdown",
   "id": "b-jAKH0RPE2k",
   "metadata": {
    "id": "b-jAKH0RPE2k"
   },
   "source": [
    "### Observations:\n",
    "*   There are three languages provided on each page (old & new).\n",
    "*   The three languages are English, Spanish & French.\n",
    "*   Each language has similar number of users\n",
    "*   The page with English as a preferred langauge has more conversion rate compared to other 2 languages."
   ]
  },
  {
   "cell_type": "markdown",
   "id": "fad2de2f",
   "metadata": {
    "id": "fad2de2f"
   },
   "source": [
    "### Bivariate Analysis"
   ]
  },
  {
   "cell_type": "markdown",
   "id": "ippvdkmxXpNQ",
   "metadata": {
    "id": "ippvdkmxXpNQ"
   },
   "source": [
    "### Landing Page VS Time Spent :"
   ]
  },
  {
   "cell_type": "code",
   "execution_count": 20,
   "id": "mHx6vb8ap69i",
   "metadata": {
    "colab": {
     "base_uri": "https://localhost:8080/"
    },
    "id": "mHx6vb8ap69i",
    "outputId": "a1cd9e02-8b63-4edd-dd37-878da0bf4917"
   },
   "outputs": [
    {
     "data": {
      "text/plain": [
       "landing_page\n",
       "new   6.22\n",
       "old   4.53\n",
       "Name: time_spent_on_the_page, dtype: float64"
      ]
     },
     "execution_count": 20,
     "metadata": {},
     "output_type": "execute_result"
    }
   ],
   "source": [
    "df.groupby(['landing_page'])['time_spent_on_the_page'].mean()"
   ]
  },
  {
   "cell_type": "code",
   "execution_count": 21,
   "id": "5DYh2U8IqYRS",
   "metadata": {
    "colab": {
     "base_uri": "https://localhost:8080/",
     "height": 410
    },
    "id": "5DYh2U8IqYRS",
    "outputId": "ae62fc40-cb89-4535-aa59-e2910079563b"
   },
   "outputs": [
    {
     "data": {
      "image/png": "[encoded data removed]",
      "text/plain": [
       "<Figure size 700x400 with 1 Axes>"
      ]
     },
     "metadata": {},
     "output_type": "display_data"
    }
   ],
   "source": [
    "plt.figure(figsize=(7,4))\n",
    "sns.barplot(df, x = 'landing_page', y = 'time_spent_on_the_page',hue='converted');\n",
    "plt.title(\"TIME SPENT ON EACH PAGE\");\n",
    "plt.xlabel('Version');\n",
    "plt.ylabel('Time Spent (in Minutes)');"
   ]
  },
  {
   "cell_type": "code",
   "execution_count": 22,
   "id": "SZtWruv6ujYV",
   "metadata": {
    "colab": {
     "base_uri": "https://localhost:8080/",
     "height": 410
    },
    "id": "SZtWruv6ujYV",
    "outputId": "f500e0be-d4fe-458e-fd09-b48b4a73c8a7"
   },
   "outputs": [
    {
     "data": {
      "image/png": "[encoded data removed]",
      "text/plain": [
       "<Figure size 600x400 with 1 Axes>"
      ]
     },
     "metadata": {},
     "output_type": "display_data"
    }
   ],
   "source": [
    "plt.figure(figsize=(6,4))\n",
    "sns.boxplot(df, x = 'landing_page', y = 'time_spent_on_the_page');\n",
    "plt.title(\"TIME SPENT ON EACH PAGE\");\n",
    "plt.xlabel('Version');\n",
    "plt.ylabel('Time Spent (in Minutes)');"
   ]
  },
  {
   "cell_type": "markdown",
   "id": "pQa0XPOfJSY-",
   "metadata": {
    "id": "pQa0XPOfJSY-"
   },
   "source": [
    "### Observations:\n",
    "*   The new landing page has more engagement time compared to the old page\n",
    "*   New landing page engagement time show some outliers.\n",
    "*   Time spent on both the landing pages show normal distribution."
   ]
  },
  {
   "cell_type": "markdown",
   "id": "n256hw5ZX1sh",
   "metadata": {
    "id": "n256hw5ZX1sh"
   },
   "source": [
    "### Conversion (Subscribed or not Subscribed) VS Time Spent :"
   ]
  },
  {
   "cell_type": "code",
   "execution_count": 23,
   "id": "ZGeJSxShq_n6",
   "metadata": {
    "colab": {
     "base_uri": "https://localhost:8080/",
     "height": 410
    },
    "id": "ZGeJSxShq_n6",
    "outputId": "dbddc0d8-e710-4e7f-8d32-d3b5a9dd3912"
   },
   "outputs": [
    {
     "data": {
      "image/png": "[encoded data removed]",
      "text/plain": [
       "<Figure size 400x400 with 1 Axes>"
      ]
     },
     "metadata": {},
     "output_type": "display_data"
    }
   ],
   "source": [
    "plt.figure(figsize=(4,4))\n",
    "sns.barplot(df, x = 'converted', y = 'time_spent_on_the_page');\n",
    "plt.title(\"CONVERSION VS TIME SPENT\");\n",
    "plt.xlabel('Subscribed');\n",
    "plt.ylabel('Time Spent (in Minutes)');"
   ]
  },
  {
   "cell_type": "code",
   "execution_count": 24,
   "id": "Q7rLv18PPOAP",
   "metadata": {
    "colab": {
     "base_uri": "https://localhost:8080/",
     "height": 410
    },
    "id": "Q7rLv18PPOAP",
    "outputId": "ac1c4e59-070b-4c24-b103-6a0f8ea2ae62"
   },
   "outputs": [
    {
     "data": {
      "image/png": "[encoded data removed]",
      "text/plain": [
       "<Figure size 700x400 with 1 Axes>"
      ]
     },
     "metadata": {},
     "output_type": "display_data"
    }
   ],
   "source": [
    "plt.figure(figsize=(7,4))\n",
    "sns.boxplot(df, x = 'converted', y = 'time_spent_on_the_page');\n",
    "plt.title(\"CONVERSION VS TIME SPENT\");\n",
    "plt.xlabel('Subscribed');\n",
    "plt.ylabel('Time Spent (in Minutes)');"
   ]
  },
  {
   "cell_type": "markdown",
   "id": "3yK-AlReLlaR",
   "metadata": {
    "id": "3yK-AlReLlaR"
   },
   "source": [
    "### Observations:\n",
    "*   Time spent by the users who subscribed is higher.\n",
    "*   There are a few outliers present as shown in the above boxplot."
   ]
  },
  {
   "cell_type": "markdown",
   "id": "Z9gGeGiTYKRA",
   "metadata": {
    "id": "Z9gGeGiTYKRA"
   },
   "source": [
    "### Prefered Language VS  Time Spent:"
   ]
  },
  {
   "cell_type": "code",
   "execution_count": 25,
   "id": "EvB_NhVhNRUv",
   "metadata": {
    "colab": {
     "base_uri": "https://localhost:8080/"
    },
    "id": "EvB_NhVhNRUv",
    "outputId": "5117111b-511e-4513-812f-f321bb5087ac"
   },
   "outputs": [
    {
     "data": {
      "text/plain": [
       "language_preferred\n",
       "English   5.56\n",
       "French    5.25\n",
       "Spanish   5.33\n",
       "Name: time_spent_on_the_page, dtype: float64"
      ]
     },
     "execution_count": 25,
     "metadata": {},
     "output_type": "execute_result"
    }
   ],
   "source": [
    "df.groupby('language_preferred')['time_spent_on_the_page'].mean()"
   ]
  },
  {
   "cell_type": "code",
   "execution_count": 26,
   "id": "QSQGXIF-nmyW",
   "metadata": {
    "colab": {
     "base_uri": "https://localhost:8080/",
     "height": 410
    },
    "id": "QSQGXIF-nmyW",
    "outputId": "1e455e4e-c4d4-4661-e2d7-8167d11f7dd4"
   },
   "outputs": [
    {
     "data": {
      "image/png": "[encoded data removed]",
      "text/plain": [
       "<Figure size 700x400 with 1 Axes>"
      ]
     },
     "metadata": {},
     "output_type": "display_data"
    }
   ],
   "source": [
    "plt.figure(figsize=(7,4))\n",
    "sns.barplot(df, x = 'language_preferred', y = 'time_spent_on_the_page');\n",
    "plt.title(\"Prefered Langauge VS TIME SPENT\");\n",
    "plt.xlabel('Language');\n",
    "plt.ylabel('Time Spent (in Minutes)');"
   ]
  },
  {
   "cell_type": "code",
   "execution_count": 27,
   "id": "KYi0ICzvVIvS",
   "metadata": {
    "colab": {
     "base_uri": "https://localhost:8080/",
     "height": 410
    },
    "id": "KYi0ICzvVIvS",
    "outputId": "b1c52fa8-57d5-4d08-86f6-97a784e516cd"
   },
   "outputs": [
    {
     "data": {
      "image/png": "[encoded data removed]",
      "text/plain": [
       "<Figure size 700x400 with 1 Axes>"
      ]
     },
     "metadata": {},
     "output_type": "display_data"
    }
   ],
   "source": [
    "plt.figure(figsize=(7,4))\n",
    "sns.boxplot(df, x = 'language_preferred', y = 'time_spent_on_the_page');\n",
    "plt.title(\"Prefered Langauge VS TIME SPENT\");\n",
    "plt.xlabel('Language');\n",
    "plt.ylabel('Time Spent (in Minutes)');"
   ]
  },
  {
   "cell_type": "markdown",
   "id": "CJJaGniWMu5Q",
   "metadata": {
    "id": "CJJaGniWMu5Q"
   },
   "source": [
    "### Observations:\n",
    "*   Average time spent is similar for the different language users.\n",
    "*   There are few outliers present for the users who prefered Spanish Langauge."
   ]
  },
  {
   "cell_type": "markdown",
   "id": "27906576",
   "metadata": {
    "id": "27906576"
   },
   "source": [
    "## 1. Do the users spend more time on the new landing page than the existing landing page?"
   ]
  },
  {
   "cell_type": "code",
   "execution_count": 28,
   "id": "9pRE2y5GuJ1G",
   "metadata": {
    "colab": {
     "base_uri": "https://localhost:8080/"
    },
    "id": "9pRE2y5GuJ1G",
    "outputId": "9ae7ca6a-ea23-43fa-f31e-9bb042088bed"
   },
   "outputs": [
    {
     "data": {
      "text/plain": [
       "landing_page\n",
       "new   6.22\n",
       "old   4.53\n",
       "Name: time_spent_on_the_page, dtype: float64"
      ]
     },
     "execution_count": 28,
     "metadata": {},
     "output_type": "execute_result"
    }
   ],
   "source": [
    "df.groupby(['landing_page'])['time_spent_on_the_page'].mean()"
   ]
  },
  {
   "cell_type": "markdown",
   "id": "e5fdf0c8",
   "metadata": {
    "id": "e5fdf0c8"
   },
   "source": [
    "### Perform Visual Analysis"
   ]
  },
  {
   "cell_type": "code",
   "execution_count": 29,
   "id": "_OWGqQRJxJvW",
   "metadata": {
    "colab": {
     "base_uri": "https://localhost:8080/",
     "height": 546
    },
    "id": "_OWGqQRJxJvW",
    "outputId": "bc342b4a-ce47-4e9f-e131-1b6c9859a637"
   },
   "outputs": [
    {
     "data": {
      "text/plain": [
       "<Figure size 400x300 with 0 Axes>"
      ]
     },
     "metadata": {},
     "output_type": "display_data"
    },
    {
     "data": {
      "image/png": "[encoded data removed]",
      "text/plain": [
       "<Figure size 500x500 with 1 Axes>"
      ]
     },
     "metadata": {},
     "output_type": "display_data"
    }
   ],
   "source": [
    "plt.figure(figsize =(4,3))\n",
    "sns.displot(df,x='time_spent_on_the_page',kde=True);\n",
    "plt.title(\"TIME SPENT ON THE PAGE\");\n",
    "plt.xlabel('Time (in minutes)');\n",
    "plt.ylabel('Count');"
   ]
  },
  {
   "cell_type": "code",
   "execution_count": 30,
   "id": "6eZJa41eg21n",
   "metadata": {
    "colab": {
     "base_uri": "https://localhost:8080/",
     "height": 410
    },
    "id": "6eZJa41eg21n",
    "outputId": "fc251e9b-435c-470a-d98e-a4e7e2438086"
   },
   "outputs": [
    {
     "data": {
      "image/png": "[encoded data removed]",
      "text/plain": [
       "<Figure size 700x400 with 1 Axes>"
      ]
     },
     "metadata": {},
     "output_type": "display_data"
    }
   ],
   "source": [
    "plt.figure(figsize=(7,4))\n",
    "sns.boxplot(df, x = 'landing_page', y = 'time_spent_on_the_page',hue='converted');\n",
    "plt.title(\"TIME SPENT ON EACH PAGE\");\n",
    "plt.xlabel('Version');\n",
    "plt.ylabel('Time Spent (in Minutes)');"
   ]
  },
  {
   "cell_type": "markdown",
   "id": "56b3dafd",
   "metadata": {
    "id": "56b3dafd"
   },
   "source": [
    "### Step 1: Define the null and alternate hypotheses"
   ]
  },
  {
   "cell_type": "markdown",
   "id": "d2ac77ef",
   "metadata": {
    "id": "d2ac77ef"
   },
   "source": [
    "**Null Hypothesis**\n",
    "**H0:**\n",
    " Time spent by the user is **equal** on both the new and old landing page"
   ]
  },
  {
   "cell_type": "markdown",
   "id": "MO9MjTcbymrE",
   "metadata": {
    "id": "MO9MjTcbymrE"
   },
   "source": [
    "**Alternate Hypothesis**\n",
    "**Ha:**\n",
    " Time spent by the user on the  new landing page is **higher** compared to the existing landing page"
   ]
  },
  {
   "cell_type": "markdown",
   "id": "XaDiGrLPzWcs",
   "metadata": {
    "id": "XaDiGrLPzWcs"
   },
   "source": [
    "Let **μ1 and μ2**\n",
    " be the mean time spent by the user on the existing and the new landing page respectively.\n",
    "\n",
    "Mathematically, the above formulated hypotheses can be written as:\n",
    "\n",
    "**H0**:  **μ1** **=**  **μ2**\n",
    "\n",
    "\n",
    "**Ha**:  **μ1** **<** **μ2**"
   ]
  },
  {
   "cell_type": "code",
   "execution_count": 31,
   "id": "zlMcdl07vue3",
   "metadata": {
    "colab": {
     "base_uri": "https://localhost:8080/"
    },
    "id": "zlMcdl07vue3",
    "outputId": "8b154fd8-f143-4eb9-e038-a894390436b7"
   },
   "outputs": [
    {
     "name": "stdout",
     "output_type": "stream",
     "text": [
      "The average time spent on old page is 4.53\n",
      "The average time spent on new page is  6.22\n",
      "The standard deviation for the time spent on old page is  2.58\n",
      "The standard deviation for the time spent on new page is  1.82\n"
     ]
    }
   ],
   "source": [
    "old_page_mean=round(df[df['landing_page']=='old']['time_spent_on_the_page'].mean(),2)\n",
    "print('The average time spent on old page is',old_page_mean)\n",
    "new_page_mean=round(df[df['landing_page']=='new']['time_spent_on_the_page'].mean(),2)\n",
    "print('The average time spent on new page is ',new_page_mean)\n",
    "old_page_std=round(df[df['landing_page']=='old']['time_spent_on_the_page'].std(),2)\n",
    "print('The standard deviation for the time spent on old page is ',old_page_std)\n",
    "new_page_std=round(df[df['landing_page']=='new']['time_spent_on_the_page'].std(),2)\n",
    "print('The standard deviation for the time spent on new page is ',new_page_std)"
   ]
  },
  {
   "cell_type": "markdown",
   "id": "c7ee4907",
   "metadata": {
    "id": "c7ee4907"
   },
   "source": [
    "### Step 2: Select Appropriate test"
   ]
  },
  {
   "cell_type": "markdown",
   "id": "2c183cd7",
   "metadata": {
    "id": "2c183cd7"
   },
   "source": [
    "* As the histogram above is **Normally distributed** for the sample of above 50 so we assumed Normal distribution\n",
    "* **Continuous data** - Time spent is measured on a continues scale\n",
    "* **Independent observations** - the observations are independent of one another.\n",
    "* **Unknown population standard deviations**\n",
    "* **Random sampling from the population**\n"
   ]
  },
  {
   "cell_type": "markdown",
   "id": "uFj5ssAh2Sdc",
   "metadata": {
    "id": "uFj5ssAh2Sdc"
   },
   "source": [
    "As per the above assumptions we can run **Two sample T-test** for this problem."
   ]
  },
  {
   "cell_type": "markdown",
   "id": "3f58c9a7",
   "metadata": {
    "id": "3f58c9a7"
   },
   "source": [
    "### Step 3: Decide the significance level"
   ]
  },
  {
   "cell_type": "markdown",
   "id": "92d7d7ee",
   "metadata": {
    "id": "92d7d7ee"
   },
   "source": [
    "As per the problem statement the **Significance Level = 0.05**."
   ]
  },
  {
   "cell_type": "markdown",
   "id": "5fed2eac",
   "metadata": {
    "id": "5fed2eac"
   },
   "source": [
    "### Step 4: Collect and prepare data"
   ]
  },
  {
   "cell_type": "code",
   "execution_count": 32,
   "id": "f5a59495",
   "metadata": {
    "id": "f5a59495"
   },
   "outputs": [],
   "source": [
    "old_page=df[df['landing_page']=='old']['time_spent_on_the_page']\n",
    "new_page=df[df['landing_page']=='new']['time_spent_on_the_page']"
   ]
  },
  {
   "cell_type": "markdown",
   "id": "f5c5258d",
   "metadata": {
    "id": "f5c5258d"
   },
   "source": [
    "### Step 5: Calculate the p-value"
   ]
  },
  {
   "cell_type": "code",
   "execution_count": 33,
   "id": "fac8594a",
   "metadata": {
    "colab": {
     "base_uri": "https://localhost:8080/"
    },
    "id": "fac8594a",
    "outputId": "19a893b8-c0e6-4c5d-81c9-833f2acae4d2"
   },
   "outputs": [
    {
     "name": "stdout",
     "output_type": "stream",
     "text": [
      "The p-value is  0.0001392381225166549\n"
     ]
    }
   ],
   "source": [
    "from scipy.stats import ttest_ind\n",
    "\n",
    "test_stat, p_value = ttest_ind(new_page,old_page, equal_var = False, alternative = 'greater')\n",
    "print('The p-value is ', p_value)"
   ]
  },
  {
   "cell_type": "markdown",
   "id": "359b12f8",
   "metadata": {
    "id": "359b12f8"
   },
   "source": [
    "### Step 6: Compare the p-value with $\\alpha$"
   ]
  },
  {
   "cell_type": "code",
   "execution_count": 34,
   "id": "7be47289",
   "metadata": {
    "colab": {
     "base_uri": "https://localhost:8080/"
    },
    "id": "7be47289",
    "outputId": "86fc38ed-5f9c-4e5e-a5b1-6561447df533"
   },
   "outputs": [
    {
     "name": "stdout",
     "output_type": "stream",
     "text": [
      "As the p-value 0.0001392381225166549 is less than the level of significance, we reject the null hypothesis.\n"
     ]
    }
   ],
   "source": [
    "if p_value < 0.05:\n",
    "    print(f'As the p-value {p_value} is less than the level of significance, we reject the null hypothesis.')\n",
    "else:\n",
    "    print(f'As the p-value {p_value} is greater than the level of significance, we fail to reject the null hypothesis.')"
   ]
  },
  {
   "cell_type": "markdown",
   "id": "d9affc84",
   "metadata": {
    "id": "d9affc84"
   },
   "source": [
    "### Step 7:  Draw inference"
   ]
  },
  {
   "cell_type": "markdown",
   "id": "6b16dd4b",
   "metadata": {
    "id": "6b16dd4b"
   },
   "source": [
    "As the **p-value**  **0.000139** is less than the significance level of **0.05** we reject the null hypothesis. So  the average time spent by the user on the new page is higher than the old page.\n"
   ]
  },
  {
   "cell_type": "markdown",
   "id": "1ad0823a",
   "metadata": {
    "id": "1ad0823a"
   },
   "source": [
    "**A similar approach can be followed to answer the other questions.**"
   ]
  },
  {
   "cell_type": "markdown",
   "id": "353e9d24",
   "metadata": {
    "id": "353e9d24"
   },
   "source": [
    "## 2. Is the conversion rate (the proportion of users who visit the landing page and get converted) for the new page greater than the conversion rate for the old page?"
   ]
  },
  {
   "cell_type": "code",
   "execution_count": 35,
   "id": "b7f52898",
   "metadata": {
    "colab": {
     "base_uri": "https://localhost:8080/"
    },
    "id": "b7f52898",
    "outputId": "17f66f91-a81c-48c0-9f85-261e133ef9cb"
   },
   "outputs": [
    {
     "data": {
      "text/plain": [
       "landing_page  converted\n",
       "new           yes         0.66\n",
       "              no          0.34\n",
       "old           no          0.58\n",
       "              yes         0.42\n",
       "Name: converted, dtype: float64"
      ]
     },
     "execution_count": 35,
     "metadata": {},
     "output_type": "execute_result"
    }
   ],
   "source": [
    "df.groupby('landing_page')['converted'].value_counts(normalize=True)"
   ]
  },
  {
   "cell_type": "markdown",
   "id": "h1ad0idzfEbu",
   "metadata": {
    "id": "h1ad0idzfEbu"
   },
   "source": [
    "The conversion rate for new landing page and old landing page are 0.66 and 0.42 respectively."
   ]
  },
  {
   "cell_type": "markdown",
   "id": "DVywL9rkz9BL",
   "metadata": {
    "id": "DVywL9rkz9BL"
   },
   "source": [
    "### Perform Visual Analysis"
   ]
  },
  {
   "cell_type": "code",
   "execution_count": 36,
   "id": "ZJTsGPWXJtHg",
   "metadata": {
    "colab": {
     "base_uri": "https://localhost:8080/",
     "height": 333
    },
    "id": "ZJTsGPWXJtHg",
    "outputId": "b45bc795-1b7f-4a52-b918-b93b25e688f8"
   },
   "outputs": [
    {
     "data": {
      "image/png": "[encoded data removed]",
      "text/plain": [
       "<Figure size 500x300 with 1 Axes>"
      ]
     },
     "metadata": {},
     "output_type": "display_data"
    }
   ],
   "source": [
    "plt.figure(figsize =(5,3))\n",
    "sns.countplot(data=df,x='converted',hue='landing_page');\n",
    "plt.title(\"CONVERSION Vs VERSION\");\n",
    "plt.xlabel('Subscribed');\n",
    "plt.ylabel('Count');"
   ]
  },
  {
   "cell_type": "code",
   "execution_count": 37,
   "id": "1muiFO4uZASh",
   "metadata": {
    "id": "1muiFO4uZASh"
   },
   "outputs": [],
   "source": [
    "new_conv=df.loc[(df['landing_page']=='new')&(df['converted']=='yes')].shape[0]\n",
    "old_conv=df.loc[(df['landing_page']=='old')&(df['converted']=='yes')].shape[0]"
   ]
  },
  {
   "cell_type": "code",
   "execution_count": 38,
   "id": "BlIENMhucS0W",
   "metadata": {
    "colab": {
     "base_uri": "https://localhost:8080/"
    },
    "id": "BlIENMhucS0W",
    "outputId": "18d398c6-376d-42bd-9f20-543e13851a9b"
   },
   "outputs": [
    {
     "name": "stdout",
     "output_type": "stream",
     "text": [
      "The numbers of new_converted and old_converted are 33 and 21 subscribers respectively.\n"
     ]
    }
   ],
   "source": [
    "print(f'The numbers of new_converted and old_converted are {new_conv} and {old_conv} subscribers respectively.')"
   ]
  },
  {
   "cell_type": "markdown",
   "id": "1z3s1EsZfd0f",
   "metadata": {
    "id": "1z3s1EsZfd0f"
   },
   "source": [
    "#### Observation :"
   ]
  },
  {
   "cell_type": "markdown",
   "id": "5g_wyZrdfmqB",
   "metadata": {
    "id": "5g_wyZrdfmqB"
   },
   "source": [
    "The proportion  of subscribers for the new landing page is greater than the old landing page based on the given sample."
   ]
  },
  {
   "cell_type": "markdown",
   "id": "kkhll-oiTuN9",
   "metadata": {
    "id": "kkhll-oiTuN9"
   },
   "source": [
    "### Step 1: Define the null and alternate hypotheses"
   ]
  },
  {
   "cell_type": "markdown",
   "id": "5RKaopVeT6HI",
   "metadata": {
    "id": "5RKaopVeT6HI"
   },
   "source": [
    "**Null Hypothesis**\n",
    "**H0:**\n",
    " The proportion of users who visit the landing page and get converted (subscribed) for the new page is equal to the conversion rate for the old page."
   ]
  },
  {
   "cell_type": "markdown",
   "id": "jbewmDhQT83j",
   "metadata": {
    "id": "jbewmDhQT83j"
   },
   "source": [
    "**Alternate Hypothesis**\n",
    "**Ha:**\n",
    "The proportion of users who visit the landing page and get converted (subscribed) for the new page is greater than the conversion rate for the old page."
   ]
  },
  {
   "cell_type": "markdown",
   "id": "PFeH5teNT_i1",
   "metadata": {
    "id": "PFeH5teNT_i1"
   },
   "source": [
    "Let **p1 and p2**\n",
    " be the proportion of conversion rate by the user on the old and the new landing page respectively.\n",
    "\n",
    "Mathematically, the above formulated hypotheses can be written as:\n",
    "\n",
    "**H0**:  **p1** **=**  **p2**\n",
    "\n",
    "\n",
    "**Ha**:  **p1** **<** **p2**"
   ]
  },
  {
   "cell_type": "markdown",
   "id": "BQQ6DAjRYjod",
   "metadata": {
    "id": "BQQ6DAjRYjod"
   },
   "source": [
    "### Step 2: Select Appropriate test"
   ]
  },
  {
   "cell_type": "markdown",
   "id": "7c5hHivhKZUM",
   "metadata": {
    "id": "7c5hHivhKZUM"
   },
   "source": [
    "*   Binomally distributed population - User converted or not\n",
    "*   Random sampling from the population - Problem statement states that its randomly sampled  \n",
    "*   Samples are independent of one another\n",
    "*   >$np_1 = 50\\cdot \\frac{21}{50} =21 \\geq 10\\\\\n",
    "n(1-p_1) = 50 \\cdot \\frac{50-21}{50} =29 \\geq 10 \\\\\n",
    "np_2 = 50\\cdot \\frac{33}{50} =33 \\geq 10\\\\\n",
    "n(1-p_2) = 50 \\cdot \\frac{50-33}{50} =17 \\geq 10 $\n",
    "*   based on above calculations the binomial distribution approximated to normal distribution\n",
    "\n",
    "\n",
    "\n",
    "\n"
   ]
  },
  {
   "cell_type": "markdown",
   "id": "2ajeKPy3oJ2w",
   "metadata": {
    "id": "2ajeKPy3oJ2w"
   },
   "source": [
    "As per the above assumptions we can run **Two proportion Z-test** for this problem."
   ]
  },
  {
   "cell_type": "markdown",
   "id": "8EZMArZZoeL4",
   "metadata": {
    "id": "8EZMArZZoeL4"
   },
   "source": [
    "### Step 3: Decide the significance level"
   ]
  },
  {
   "cell_type": "markdown",
   "id": "f1vst9pEoeL-",
   "metadata": {
    "id": "f1vst9pEoeL-"
   },
   "source": [
    "As per the problem statement the **Significance Level = 0.05**."
   ]
  },
  {
   "cell_type": "markdown",
   "id": "0U6X1Vg2okub",
   "metadata": {
    "id": "0U6X1Vg2okub"
   },
   "source": [
    "### Step 4: Collect and prepare data"
   ]
  },
  {
   "cell_type": "code",
   "execution_count": 39,
   "id": "rGrOI7BDokuh",
   "metadata": {
    "id": "rGrOI7BDokuh"
   },
   "outputs": [],
   "source": [
    "new_conv=df.loc[(df['landing_page']=='new')&(df['converted']=='yes')].shape[0]\n",
    "total_new=df.loc[(df['landing_page']=='new')].shape[0]\n",
    "old_conv=df.loc[(df['landing_page']=='old')&(df['converted']=='yes')].shape[0]\n",
    "total_old=df.loc[(df['landing_page']=='old')].shape[0]\n"
   ]
  },
  {
   "cell_type": "markdown",
   "id": "99pXWyIMokuh",
   "metadata": {
    "id": "99pXWyIMokuh"
   },
   "source": [
    "### Step 5: Calculate the p-value"
   ]
  },
  {
   "cell_type": "code",
   "execution_count": 40,
   "id": "xFtT26m1okuh",
   "metadata": {
    "colab": {
     "base_uri": "https://localhost:8080/"
    },
    "id": "xFtT26m1okuh",
    "outputId": "3868991e-1338-458e-8365-5ae0533099bd"
   },
   "outputs": [
    {
     "name": "stdout",
     "output_type": "stream",
     "text": [
      "The p-value is 0.008026308204056278\n"
     ]
    }
   ],
   "source": [
    "from statsmodels.stats.proportion import proportions_ztest\n",
    "stat, p_value = proportions_ztest([new_conv, old_conv], [total_new, total_old], alternative = 'larger')\n",
    "\n",
    "print('The p-value is',p_value)"
   ]
  },
  {
   "cell_type": "markdown",
   "id": "MzLaaH7Nokuh",
   "metadata": {
    "id": "MzLaaH7Nokuh"
   },
   "source": [
    "### Step 6: Compare the p-value with $\\alpha$"
   ]
  },
  {
   "cell_type": "code",
   "execution_count": 41,
   "id": "bjqyKEkpokuh",
   "metadata": {
    "colab": {
     "base_uri": "https://localhost:8080/"
    },
    "id": "bjqyKEkpokuh",
    "outputId": "3c18c315-b4b2-4709-d898-6964c2a8c2bb"
   },
   "outputs": [
    {
     "name": "stdout",
     "output_type": "stream",
     "text": [
      "As the p-value 0.008026308204056278 is less than the level of significance, we reject the null hypothesis.\n"
     ]
    }
   ],
   "source": [
    "if p_value < 0.05:\n",
    "    print(f'As the p-value {p_value} is less than the level of significance, we reject the null hypothesis.')\n",
    "else:\n",
    "    print(f'As the p-value {p_value} is greater than the level of significance, we fail to reject the null hypothesis.')"
   ]
  },
  {
   "cell_type": "markdown",
   "id": "ec9_6n-uokui",
   "metadata": {
    "id": "ec9_6n-uokui"
   },
   "source": [
    "### Step 7:  Draw inference"
   ]
  },
  {
   "cell_type": "markdown",
   "id": "Knx3iXEnokui",
   "metadata": {
    "id": "Knx3iXEnokui"
   },
   "source": [
    "As the **p-value**  **0.008026** is less than the significance level of **0.05** we reject the null hypothesis. So the conversion rate of the new landing page is  greater than the conversion rate of old landing page\n"
   ]
  },
  {
   "cell_type": "markdown",
   "id": "d49bfa2d",
   "metadata": {
    "id": "d49bfa2d"
   },
   "source": [
    "## 3. Is the conversion and preferred language are independent or related?"
   ]
  },
  {
   "cell_type": "code",
   "execution_count": 42,
   "id": "toml78GrtmoH",
   "metadata": {
    "colab": {
     "base_uri": "https://localhost:8080/"
    },
    "id": "toml78GrtmoH",
    "outputId": "729c6059-dbc9-4b59-c1d3-5f7c6d945945"
   },
   "outputs": [
    {
     "data": {
      "text/plain": [
       "language_preferred  converted\n",
       "English             yes         0.66\n",
       "                    no          0.34\n",
       "French              no          0.56\n",
       "                    yes         0.44\n",
       "Spanish             yes         0.53\n",
       "                    no          0.47\n",
       "Name: converted, dtype: float64"
      ]
     },
     "execution_count": 42,
     "metadata": {},
     "output_type": "execute_result"
    }
   ],
   "source": [
    "df.groupby('language_preferred')['converted'].value_counts(normalize=True)"
   ]
  },
  {
   "cell_type": "code",
   "execution_count": 43,
   "id": "BeNefCibtmoN",
   "metadata": {
    "colab": {
     "base_uri": "https://localhost:8080/",
     "height": 307
    },
    "id": "BeNefCibtmoN",
    "outputId": "45598a4d-d53b-4c7b-9f68-456e3a2a2b78"
   },
   "outputs": [
    {
     "data": {
      "image/png": "[encoded data removed]",
      "text/plain": [
       "<Figure size 900x300 with 3 Axes>"
      ]
     },
     "metadata": {},
     "output_type": "display_data"
    }
   ],
   "source": [
    "sns.catplot(df, x = 'converted', col = 'language_preferred', kind = 'count',height=3, aspect=2/2);"
   ]
  },
  {
   "cell_type": "markdown",
   "id": "wdI3EHACtmoN",
   "metadata": {
    "id": "wdI3EHACtmoN"
   },
   "source": [
    "#### Observation :"
   ]
  },
  {
   "cell_type": "markdown",
   "id": "NYeVFobbuwLO",
   "metadata": {
    "id": "NYeVFobbuwLO"
   },
   "source": [
    "*   The users who prefered English have high rate of conversion compared to Spanish and French users.\n",
    "*   The users who prefered French have low conversion rate.\n",
    "\n"
   ]
  },
  {
   "cell_type": "markdown",
   "id": "loc-nO3_tmoO",
   "metadata": {
    "id": "loc-nO3_tmoO"
   },
   "source": [
    "### Step 1: Define the null and alternate hypotheses"
   ]
  },
  {
   "cell_type": "markdown",
   "id": "TIVZ3g8ytmoO",
   "metadata": {
    "id": "TIVZ3g8ytmoO"
   },
   "source": [
    "**Null Hypothesis**\n",
    "**H0:**\n",
    " The Conversion rate is independent of the prefered language."
   ]
  },
  {
   "cell_type": "markdown",
   "id": "PIE-5W8ItmoO",
   "metadata": {
    "id": "PIE-5W8ItmoO"
   },
   "source": [
    "**Alternate Hypothesis**\n",
    "**Ha:**\n",
    " The Conversion rate is dependent of the prefered language."
   ]
  },
  {
   "cell_type": "markdown",
   "id": "4S2xoxfwtmoO",
   "metadata": {
    "id": "4S2xoxfwtmoO"
   },
   "source": [
    "### Step 2: Select Appropriate test"
   ]
  },
  {
   "cell_type": "markdown",
   "id": "NIIcg6CztmoO",
   "metadata": {
    "id": "NIIcg6CztmoO"
   },
   "source": [
    "\n",
    "* Categorical variables\n",
    "* Expected value of the number of sample observations  is greater than 5.\n",
    "* Random sampling from the population\n",
    "\n",
    "\n",
    "\n",
    "\n"
   ]
  },
  {
   "cell_type": "markdown",
   "id": "p6QaYv0ptmoO",
   "metadata": {
    "id": "p6QaYv0ptmoO"
   },
   "source": [
    "As per the above assumptions we can run **Chi-Square Test for Independence** for this problem."
   ]
  },
  {
   "cell_type": "markdown",
   "id": "yj_KqoyVtmoO",
   "metadata": {
    "id": "yj_KqoyVtmoO"
   },
   "source": [
    "### Step 3: Decide the significance level"
   ]
  },
  {
   "cell_type": "markdown",
   "id": "1yQ2kdWotmoO",
   "metadata": {
    "id": "1yQ2kdWotmoO"
   },
   "source": [
    "As per the problem statement the **Significance Level = 0.05**."
   ]
  },
  {
   "cell_type": "markdown",
   "id": "vYLBKalMtmoO",
   "metadata": {
    "id": "vYLBKalMtmoO"
   },
   "source": [
    "### Step 4: Collect and prepare data"
   ]
  },
  {
   "cell_type": "code",
   "execution_count": 44,
   "id": "LyUCwMmztmoO",
   "metadata": {
    "colab": {
     "base_uri": "https://localhost:8080/",
     "height": 144
    },
    "id": "LyUCwMmztmoO",
    "outputId": "d454c268-0476-4106-be08-e0209602b70d"
   },
   "outputs": [
    {
     "data": {
      "text/html": [
       "<div>\n",
       "<style scoped>\n",
       "    .dataframe tbody tr th:only-of-type {\n",
       "        vertical-align: middle;\n",
       "    }\n",
       "\n",
       "    .dataframe tbody tr th {\n",
       "        vertical-align: top;\n",
       "    }\n",
       "\n",
       "    .dataframe thead th {\n",
       "        text-align: right;\n",
       "    }\n",
       "</style>\n",
       "<table border=\"1\" class=\"dataframe\">\n",
       "  <thead>\n",
       "    <tr style=\"text-align: right;\">\n",
       "      <th>language_preferred</th>\n",
       "      <th>English</th>\n",
       "      <th>French</th>\n",
       "      <th>Spanish</th>\n",
       "    </tr>\n",
       "    <tr>\n",
       "      <th>converted</th>\n",
       "      <th></th>\n",
       "      <th></th>\n",
       "      <th></th>\n",
       "    </tr>\n",
       "  </thead>\n",
       "  <tbody>\n",
       "    <tr>\n",
       "      <th>no</th>\n",
       "      <td>11</td>\n",
       "      <td>19</td>\n",
       "      <td>16</td>\n",
       "    </tr>\n",
       "    <tr>\n",
       "      <th>yes</th>\n",
       "      <td>21</td>\n",
       "      <td>15</td>\n",
       "      <td>18</td>\n",
       "    </tr>\n",
       "  </tbody>\n",
       "</table>\n",
       "</div>"
      ],
      "text/plain": [
       "language_preferred  English  French  Spanish\n",
       "converted                                   \n",
       "no                       11      19       16\n",
       "yes                      21      15       18"
      ]
     },
     "execution_count": 44,
     "metadata": {},
     "output_type": "execute_result"
    }
   ],
   "source": [
    "pref_lang=pd.crosstab(df.converted,df.language_preferred)\n",
    "pref_lang"
   ]
  },
  {
   "cell_type": "markdown",
   "id": "EcEvPqwvtmoO",
   "metadata": {
    "id": "EcEvPqwvtmoO"
   },
   "source": [
    "### Step 5: Calculate the p-value"
   ]
  },
  {
   "cell_type": "code",
   "execution_count": 45,
   "id": "9-76HZbZtmoO",
   "metadata": {
    "colab": {
     "base_uri": "https://localhost:8080/"
    },
    "id": "9-76HZbZtmoO",
    "outputId": "5269d2c2-6ef1-412d-b831-346df9f1871e"
   },
   "outputs": [
    {
     "name": "stdout",
     "output_type": "stream",
     "text": [
      "The p-value is 0.21298887487543447\n"
     ]
    }
   ],
   "source": [
    "from scipy.stats import chi2_contingency\n",
    "\n",
    "chi, p_value, dof, expected = chi2_contingency(pref_lang)\n",
    "print('The p-value is',p_value)"
   ]
  },
  {
   "cell_type": "markdown",
   "id": "O6ApZRh4tmoP",
   "metadata": {
    "id": "O6ApZRh4tmoP"
   },
   "source": [
    "### Step 6: Compare the p-value with $\\alpha$"
   ]
  },
  {
   "cell_type": "code",
   "execution_count": 46,
   "id": "Hy2ocMb0tmoP",
   "metadata": {
    "colab": {
     "base_uri": "https://localhost:8080/"
    },
    "id": "Hy2ocMb0tmoP",
    "outputId": "d6952297-773b-492b-e5a5-ad2fc4d7ecba"
   },
   "outputs": [
    {
     "name": "stdout",
     "output_type": "stream",
     "text": [
      "As the p-value 0.21298887487543447 is greater than the level of significance, we fail to reject the null hypothesis.\n"
     ]
    }
   ],
   "source": [
    "if p_value < 0.05:\n",
    "    print(f'As the p-value {p_value} is less than the level of significance, we reject the null hypothesis.')\n",
    "else:\n",
    "    print(f'As the p-value {p_value} is greater than the level of significance, we fail to reject the null hypothesis.')"
   ]
  },
  {
   "cell_type": "markdown",
   "id": "_554eOZftmoP",
   "metadata": {
    "id": "_554eOZftmoP"
   },
   "source": [
    "### Step 7:  Draw inference"
   ]
  },
  {
   "cell_type": "markdown",
   "id": "FMDdvEQgtmoP",
   "metadata": {
    "id": "FMDdvEQgtmoP"
   },
   "source": [
    "As the **p-value**  **0.21298** is greater than the significance level of **0.05** we fail to reject the null hypothesis. So the Conversion rate is independent of the preferred language.\n"
   ]
  },
  {
   "cell_type": "markdown",
   "id": "8d585a90",
   "metadata": {
    "id": "8d585a90"
   },
   "source": [
    "## 4. Is the time spent on the new page same for the different language users?"
   ]
  },
  {
   "cell_type": "code",
   "execution_count": 47,
   "id": "UKbLKUuswVbD",
   "metadata": {
    "colab": {
     "base_uri": "https://localhost:8080/"
    },
    "id": "UKbLKUuswVbD",
    "outputId": "ac4204c7-4ba5-4547-b618-c434dd4d430a"
   },
   "outputs": [
    {
     "data": {
      "text/plain": [
       "language_preferred\n",
       "English   6.66\n",
       "French    6.20\n",
       "Spanish   5.84\n",
       "Name: time_spent_on_the_page, dtype: float64"
      ]
     },
     "execution_count": 47,
     "metadata": {},
     "output_type": "execute_result"
    }
   ],
   "source": [
    "df_new=df[df['landing_page']=='new']\n",
    "df_new.groupby('language_preferred')['time_spent_on_the_page'].mean()"
   ]
  },
  {
   "cell_type": "markdown",
   "id": "j2G5q-jVwVbL",
   "metadata": {
    "id": "j2G5q-jVwVbL"
   },
   "source": [
    "### Perform Visual Analysis"
   ]
  },
  {
   "cell_type": "code",
   "execution_count": 48,
   "id": "eRbaA9RlyuaA",
   "metadata": {
    "colab": {
     "base_uri": "https://localhost:8080/",
     "height": 487
    },
    "id": "eRbaA9RlyuaA",
    "outputId": "a79d357f-c0ee-407a-f9ee-a349787436a8"
   },
   "outputs": [
    {
     "data": {
      "image/png": "[encoded data removed]",
      "text/plain": [
       "<Figure size 700x500 with 1 Axes>"
      ]
     },
     "metadata": {},
     "output_type": "display_data"
    }
   ],
   "source": [
    "plt.figure(figsize=(7,5))\n",
    "sns.boxplot(df_new,x='language_preferred',y='time_spent_on_the_page');\n",
    "plt.title(\"LANGUAGE VS TIME SPENT (NEW PAGE)\");\n",
    "plt.xlabel('Language');\n",
    "plt.ylabel('Time Spent (in Minutes)');"
   ]
  },
  {
   "cell_type": "markdown",
   "id": "xW9dXymqwVbM",
   "metadata": {
    "id": "xW9dXymqwVbM"
   },
   "source": [
    "#### Observation :"
   ]
  },
  {
   "cell_type": "markdown",
   "id": "0f1IqiWJwVbM",
   "metadata": {
    "id": "0f1IqiWJwVbM"
   },
   "source": [
    "The Average time spent by the users on the new page is almost similar across the different langauges available."
   ]
  },
  {
   "cell_type": "markdown",
   "id": "MaMGQCTTwVbM",
   "metadata": {
    "id": "MaMGQCTTwVbM"
   },
   "source": [
    "### Step 1: Define the null and alternate hypotheses"
   ]
  },
  {
   "cell_type": "markdown",
   "id": "VeAzYyC_wVbM",
   "metadata": {
    "id": "VeAzYyC_wVbM"
   },
   "source": [
    "**Null Hypothesis**\n",
    "**H0:**\n",
    " The Mean time is same across the languages available."
   ]
  },
  {
   "cell_type": "markdown",
   "id": "vVcUoU_swVbN",
   "metadata": {
    "id": "vVcUoU_swVbN"
   },
   "source": [
    "**Alternate Hypothesis**\n",
    "**Ha:**\n",
    "Atleast one language mean time is different from the rest."
   ]
  },
  {
   "cell_type": "markdown",
   "id": "Jt-zSoxAwVbN",
   "metadata": {
    "id": "Jt-zSoxAwVbN"
   },
   "source": [
    "Let **μ1,μ2 and μ3**  be the mean time spent on the new page by the English,Spanish and French users respectively.\n",
    "\n",
    "Mathematically, the above formulated hypotheses can be written as:\n",
    "\n",
    "**H0**:  **μ1** **=**  **μ2** **=**  **μ3**\n",
    "\n",
    "\n",
    "**Ha**:  Atleast one of these mean time is different"
   ]
  },
  {
   "cell_type": "markdown",
   "id": "RDbo6xGiwVbN",
   "metadata": {
    "id": "RDbo6xGiwVbN"
   },
   "source": [
    "### Step 2: Select Appropriate test"
   ]
  },
  {
   "cell_type": "markdown",
   "id": "SyUM7q1dwVbN",
   "metadata": {
    "id": "SyUM7q1dwVbN"
   },
   "source": [
    " Since we are determining  whether the means of the 3 given populations are signiﬁcantly different. We have to perform **One-Way Anova** Test.\n",
    "\n",
    "\n",
    "\n",
    "\n",
    "\n"
   ]
  },
  {
   "cell_type": "markdown",
   "id": "4MBAuQQ1wVbN",
   "metadata": {
    "id": "4MBAuQQ1wVbN"
   },
   "source": [
    "Checking if the  Normality and Variance  assumptions hold good by\n",
    "*   Shapiro-Wilk's Test - For Normality test.\n",
    "*   Levene test - For equality of Variance.\n",
    "\n"
   ]
  },
  {
   "cell_type": "markdown",
   "id": "9XBmWQ1-wVbN",
   "metadata": {
    "id": "9XBmWQ1-wVbN"
   },
   "source": [
    "### Step 3: Decide the significance level"
   ]
  },
  {
   "cell_type": "markdown",
   "id": "YUIRzRBnwVbN",
   "metadata": {
    "id": "YUIRzRBnwVbN"
   },
   "source": [
    "As per the problem statement the **Significance Level = 0.05**."
   ]
  },
  {
   "cell_type": "markdown",
   "id": "g38UwWq5wVbN",
   "metadata": {
    "id": "g38UwWq5wVbN"
   },
   "source": [
    "### Step 4: Collect and prepare data"
   ]
  },
  {
   "cell_type": "markdown",
   "id": "em6ftcHH_N7J",
   "metadata": {
    "id": "em6ftcHH_N7J"
   },
   "source": [
    "#### Shapiro-Wilk's Test"
   ]
  },
  {
   "cell_type": "markdown",
   "id": "rwA6IEg-_yQR",
   "metadata": {
    "id": "rwA6IEg-_yQR"
   },
   "source": [
    "*   Null Hypothesis - Time spent follows a normal distribution\n",
    "*   Alternate Hypothesis - Time spent does not follow a normal distribution."
   ]
  },
  {
   "cell_type": "code",
   "execution_count": 49,
   "id": "X5A9unGn_MZ5",
   "metadata": {
    "colab": {
     "base_uri": "https://localhost:8080/"
    },
    "id": "X5A9unGn_MZ5",
    "outputId": "3b6b75f1-81c3-4b59-c0d2-7cef30f43e7e"
   },
   "outputs": [
    {
     "name": "stdout",
     "output_type": "stream",
     "text": [
      "The p-value is 0.8040016293525696\n"
     ]
    }
   ],
   "source": [
    "from scipy import stats\n",
    "w, p_value = stats.shapiro(df_new['time_spent_on_the_page'])\n",
    "print('The p-value is',p_value)"
   ]
  },
  {
   "cell_type": "markdown",
   "id": "5YVlVzHD_oix",
   "metadata": {
    "id": "5YVlVzHD_oix"
   },
   "source": [
    "#### Observation :"
   ]
  },
  {
   "cell_type": "markdown",
   "id": "X3-CVr91_rlZ",
   "metadata": {
    "id": "X3-CVr91_rlZ"
   },
   "source": [
    "As the  **p-value 0.804** is very large compared to the significance level of **0.05**,we fail to reject the null hypothesis that the response follows the normal distribution."
   ]
  },
  {
   "cell_type": "markdown",
   "id": "BXm0dgQCBO1b",
   "metadata": {
    "id": "BXm0dgQCBO1b"
   },
   "source": [
    "#### Levene Test"
   ]
  },
  {
   "cell_type": "markdown",
   "id": "v7L8NNbABO1l",
   "metadata": {
    "id": "v7L8NNbABO1l"
   },
   "source": [
    "*   Null Hypothesis - All the population variances are equal.\n",
    "*   Alternate Hypothesis - Atleast one variance is different."
   ]
  },
  {
   "cell_type": "code",
   "execution_count": 50,
   "id": "_XcQKIdoBO1l",
   "metadata": {
    "colab": {
     "base_uri": "https://localhost:8080/"
    },
    "id": "_XcQKIdoBO1l",
    "outputId": "6e488dc0-4b3b-4a34-9b8a-140434febdc9"
   },
   "outputs": [
    {
     "name": "stdout",
     "output_type": "stream",
     "text": [
      "The p-value is 0.46711357711340173\n"
     ]
    }
   ],
   "source": [
    "from scipy.stats import levene\n",
    "statistic, p_value = levene(df_new['time_spent_on_the_page'][df_new['language_preferred']==\"English\"],\n",
    "                            df_new['time_spent_on_the_page'][df_new['language_preferred']==\"Spanish\"],\n",
    "                            df_new['time_spent_on_the_page'][df_new['language_preferred']==\"French\"])\n",
    "print('The p-value is',p_value)"
   ]
  },
  {
   "cell_type": "markdown",
   "id": "CHA3wJaDBO1l",
   "metadata": {
    "id": "CHA3wJaDBO1l"
   },
   "source": [
    "#### Observation :"
   ]
  },
  {
   "cell_type": "markdown",
   "id": "V02ZvI9yBO1l",
   "metadata": {
    "id": "V02ZvI9yBO1l"
   },
   "source": [
    "As the  **p-value 0.4671** is very large compared to the significance level of **0.05**,we fail to reject the null hypothesis that the population variances are equal."
   ]
  },
  {
   "cell_type": "markdown",
   "id": "kvMMknJDq_LU",
   "metadata": {
    "id": "kvMMknJDq_LU"
   },
   "source": [
    "### Let's test whether the assumptions are satisfied or not\n",
    "\n",
    "* The populations are normally distributed - Yes, the normality assumption is verified using the Shapiro-Wilk’s test.\n",
    "* Samples are independent simple random samples - Given in the problem statement.\n",
    "* Population variances are equal - Yes, The assumption is verified using the Levene's test.\n",
    "\n"
   ]
  },
  {
   "cell_type": "markdown",
   "id": "Vd7zW6-hD3YI",
   "metadata": {
    "id": "Vd7zW6-hD3YI"
   },
   "source": [
    "### Now we perfom the One-way Anova Test"
   ]
  },
  {
   "cell_type": "markdown",
   "id": "5oFAlimWwVbO",
   "metadata": {
    "id": "5oFAlimWwVbO"
   },
   "source": [
    "### Step 5: Calculate the p-value"
   ]
  },
  {
   "cell_type": "code",
   "execution_count": 51,
   "id": "yiMJ3bPgwVbO",
   "metadata": {
    "colab": {
     "base_uri": "https://localhost:8080/"
    },
    "id": "yiMJ3bPgwVbO",
    "outputId": "207e31b7-ff19-48b7-921c-116e6c097008"
   },
   "outputs": [
    {
     "name": "stdout",
     "output_type": "stream",
     "text": [
      "The p-value is 0.43204138694325955\n"
     ]
    }
   ],
   "source": [
    "from scipy.stats import f_oneway\n",
    "\n",
    "test_stat, p_value = f_oneway(df_new['time_spent_on_the_page'][df_new['language_preferred']==\"English\"],\n",
    "                            df_new['time_spent_on_the_page'][df_new['language_preferred']==\"Spanish\"],\n",
    "                            df_new['time_spent_on_the_page'][df_new['language_preferred']==\"French\"])\n",
    "print('The p-value is',p_value)"
   ]
  },
  {
   "cell_type": "markdown",
   "id": "6SactoGwwVbO",
   "metadata": {
    "id": "6SactoGwwVbO"
   },
   "source": [
    "### Step 6: Compare the p-value with $\\alpha$"
   ]
  },
  {
   "cell_type": "code",
   "execution_count": 52,
   "id": "R56uvbbqwVbO",
   "metadata": {
    "colab": {
     "base_uri": "https://localhost:8080/"
    },
    "id": "R56uvbbqwVbO",
    "outputId": "99198e05-a576-4234-bde2-d242eab48ba9"
   },
   "outputs": [
    {
     "name": "stdout",
     "output_type": "stream",
     "text": [
      "As the p-value 0.43204138694325955 is greater than the level of significance, we fail to reject the null hypothesis.\n"
     ]
    }
   ],
   "source": [
    "if p_value < 0.05:\n",
    "    print(f'As the p-value {p_value} is less than the level of significance, we reject the null hypothesis.')\n",
    "else:\n",
    "    print(f'As the p-value {p_value} is greater than the level of significance, we fail to reject the null hypothesis.')"
   ]
  },
  {
   "cell_type": "markdown",
   "id": "ASReY3lwwVbO",
   "metadata": {
    "id": "ASReY3lwwVbO"
   },
   "source": [
    "### Step 7:  Draw inference"
   ]
  },
  {
   "cell_type": "markdown",
   "id": "AvVDqEevwVbO",
   "metadata": {
    "id": "AvVDqEevwVbO"
   },
   "source": [
    "*   As the **p-value**  **0.4320** is greater than the significance level of **0.05** we fail to reject the null hypothesis.\n",
    "*  Based on the above p-value the average time is same across the different  languages available on the new page.\n",
    "\n",
    "\n"
   ]
  },
  {
   "cell_type": "markdown",
   "id": "3acbc947",
   "metadata": {
    "id": "3acbc947"
   },
   "source": [
    "## Conclusion and Business Recommendations"
   ]
  },
  {
   "cell_type": "markdown",
   "id": "21fb1063",
   "metadata": {
    "id": "21fb1063"
   },
   "source": [
    "## Conclusion"
   ]
  },
  {
   "cell_type": "markdown",
   "id": "Pfs3VSMROZvv",
   "metadata": {
    "id": "Pfs3VSMROZvv"
   },
   "source": [
    "1. As stated in the Problem statement the 2 groups are equally distributed each with **50 observations**.\n",
    "2.  Average time spent by the users on the page is **5.38 mins**.\n",
    "3. The users who have subscribed is slightly higher than the users who have not subscribed.\n",
    "\t    * subscribed - 54\n",
    "\t    * not_subscribed - 46\n",
    "4. There are 3 languages provided in the page namely **English, Spanish and French**.\n",
    "5. The page with **English** as a preferred language has **more subscribers** compared to other 2 languages.  \n",
    "6. As per the results obtained from the **Two-sample t-test** the new landing page has more engagement time compared to the old landing page.\n",
    "7. From the **Two-proportion Z test** we can conclude that the conversion rate of the new landing page is greater than the conversion rate of old landing page.\n",
    "8. Based on the p-value obtained from the **Chi-Square Test for Independence** the Conversion rate is independent of the preferred language.\n",
    "9. The p-value obtained from the **One-way Anova test** confirms that the average time is same across the different languages available on the new landing page.\n",
    "    \n"
   ]
  },
  {
   "cell_type": "markdown",
   "id": "w6vheywdF8pX",
   "metadata": {
    "id": "w6vheywdF8pX"
   },
   "source": [
    "## Recommendations"
   ]
  },
  {
   "cell_type": "markdown",
   "id": "PTO2bTtPOYxA",
   "metadata": {
    "id": "PTO2bTtPOYxA"
   },
   "source": [
    "**Based on the above analysis** :\n",
    "1. The New landing page has performed well and has gained more engagement time and subscibers, so it should be  promoted  further for more users.\n",
    "2. Spending more resources and implementing more features on the new landing page.\n",
    "3. Deploying the new landing page as the portals main page to gain subscribers after further research with more samples.\n",
    "4. The prefered language by the users is equal around all the three languages, but the conversion rate for the Spanish and French users is lower compared to the english language so further investigation is required to make it more user friendly.\n",
    "5. An option for users to provide feedback of their experience on the new landing page to  improve its features and useabilty.\n",
    "\n"
   ]
  }
 ],
 "metadata": {
  "colab": {
   "collapsed_sections": [
    "353e9d24",
    "8d585a90"
   ],
   "provenance": []
  },
  "kernelspec": {
   "display_name": "Python 3 (ipykernel)",
   "language": "python",
   "name": "python3"
  },
  "language_info": {
   "codemirror_mode": {
    "name": "ipython",
    "version": 3
   },
   "file_extension": ".py",
   "mimetype": "text/x-python",
   "name": "python",
   "nbconvert_exporter": "python",
   "pygments_lexer": "ipython3",
   "version": "3.11.4"
  }
 },
 "nbformat": 4,
 "nbformat_minor": 5
}
